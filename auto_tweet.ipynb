{
 "cells": [
  {
   "cell_type": "markdown",
   "metadata": {},
   "source": [
    "# https://opensource.com/article/17/8/raspberry-pi-twitter-bot"
   ]
  },
  {
   "cell_type": "code",
   "execution_count": 1,
   "metadata": {
    "ExecuteTime": {
     "end_time": "2017-12-19T13:07:22.640722Z",
     "start_time": "2017-12-19T13:07:22.422759Z"
    }
   },
   "outputs": [],
   "source": [
    "from twython import Twython"
   ]
  },
  {
   "cell_type": "code",
   "execution_count": 2,
   "metadata": {
    "ExecuteTime": {
     "end_time": "2017-12-19T13:07:32.803500Z",
     "start_time": "2017-12-19T13:07:32.791533Z"
    }
   },
   "outputs": [],
   "source": [
    "from twitter_auth import (\n",
    "    consumer_key, \n",
    "    consumer_secret,\n",
    "    access_token, \n",
    "    access_token_secret\n",
    ")"
   ]
  },
  {
   "cell_type": "code",
   "execution_count": 3,
   "metadata": {
    "ExecuteTime": {
     "end_time": "2017-12-19T13:07:34.516919Z",
     "start_time": "2017-12-19T13:07:34.513071Z"
    }
   },
   "outputs": [],
   "source": [
    "twitter = Twython(\n",
    "    consumer_key,\n",
    "    consumer_secret,\n",
    "    access_token,\n",
    "    access_token_secret)"
   ]
  },
  {
   "cell_type": "code",
   "execution_count": 4,
   "metadata": {
    "ExecuteTime": {
     "end_time": "2017-12-19T13:07:36.905356Z",
     "start_time": "2017-12-19T13:07:36.899141Z"
    }
   },
   "outputs": [],
   "source": [
    "message = \"Banning Christmas in China: Good, Bad, Thoughts? #China\""
   ]
  },
  {
   "cell_type": "code",
   "execution_count": 5,
   "metadata": {
    "ExecuteTime": {
     "end_time": "2017-12-19T13:07:38.102664Z",
     "start_time": "2017-12-19T13:07:38.096424Z"
    }
   },
   "outputs": [
    {
     "name": "stdout",
     "output_type": "stream",
     "text": [
      "Banning Christmas in China: Good, Bad, Thoughts? #China\n"
     ]
    }
   ],
   "source": [
    "print(message)"
   ]
  },
  {
   "cell_type": "code",
   "execution_count": 6,
   "metadata": {
    "ExecuteTime": {
     "end_time": "2017-12-19T13:07:42.036529Z",
     "start_time": "2017-12-19T13:07:39.591482Z"
    }
   },
   "outputs": [
    {
     "data": {
      "text/plain": [
       "{'contributors': None,\n",
       " 'coordinates': None,\n",
       " 'created_at': 'Tue Dec 19 13:07:41 +0000 2017',\n",
       " 'entities': {'hashtags': [{'indices': [49, 55], 'text': 'China'}],\n",
       "  'symbols': [],\n",
       "  'urls': [],\n",
       "  'user_mentions': []},\n",
       " 'favorite_count': 0,\n",
       " 'favorited': False,\n",
       " 'geo': None,\n",
       " 'id': 943105557149376512,\n",
       " 'id_str': '943105557149376512',\n",
       " 'in_reply_to_screen_name': None,\n",
       " 'in_reply_to_status_id': None,\n",
       " 'in_reply_to_status_id_str': None,\n",
       " 'in_reply_to_user_id': None,\n",
       " 'in_reply_to_user_id_str': None,\n",
       " 'is_quote_status': False,\n",
       " 'lang': 'en',\n",
       " 'place': None,\n",
       " 'retweet_count': 0,\n",
       " 'retweeted': False,\n",
       " 'source': '<a href=\"https://github.com/evansimpson79\" rel=\"nofollow\">Auto_tweeter_youtube</a>',\n",
       " 'text': 'Banning Christmas in China: Good, Bad, Thoughts? #China',\n",
       " 'truncated': False,\n",
       " 'user': {'contributors_enabled': False,\n",
       "  'created_at': 'Tue Jun 08 09:24:09 +0000 2010',\n",
       "  'default_profile': False,\n",
       "  'default_profile_image': False,\n",
       "  'description': 'PODCAST: Over There,living overseas expressions (iTunes, Libsyn).YOUTUBE: Changing Scripts,Vlog abt learning 2 read Chinese language',\n",
       "  'entities': {'description': {'urls': []},\n",
       "   'url': {'urls': [{'display_url': 'itunes.apple.com/us/podcast/exp…',\n",
       "      'expanded_url': 'https://itunes.apple.com/us/podcast/expating/id1239185857?mt=2',\n",
       "      'indices': [0, 23],\n",
       "      'url': 'https://t.co/wfSF1olx2b'}]}},\n",
       "  'favourites_count': 1788,\n",
       "  'follow_request_sent': False,\n",
       "  'followers_count': 990,\n",
       "  'following': False,\n",
       "  'friends_count': 799,\n",
       "  'geo_enabled': False,\n",
       "  'has_extended_profile': True,\n",
       "  'id': 153349145,\n",
       "  'id_str': '153349145',\n",
       "  'is_translation_enabled': False,\n",
       "  'is_translator': False,\n",
       "  'lang': 'en',\n",
       "  'listed_count': 97,\n",
       "  'location': \"Shanghai, People's Republic of\",\n",
       "  'name': 'Stephanie Fuccio',\n",
       "  'notifications': False,\n",
       "  'profile_background_color': '642D8B',\n",
       "  'profile_background_image_url': 'http://abs.twimg.com/images/themes/theme10/bg.gif',\n",
       "  'profile_background_image_url_https': 'https://abs.twimg.com/images/themes/theme10/bg.gif',\n",
       "  'profile_background_tile': True,\n",
       "  'profile_banner_url': 'https://pbs.twimg.com/profile_banners/153349145/1496071715',\n",
       "  'profile_image_url': 'http://pbs.twimg.com/profile_images/917695725894492161/MzBf-kOc_normal.jpg',\n",
       "  'profile_image_url_https': 'https://pbs.twimg.com/profile_images/917695725894492161/MzBf-kOc_normal.jpg',\n",
       "  'profile_link_color': 'FF0000',\n",
       "  'profile_sidebar_border_color': '65B0DA',\n",
       "  'profile_sidebar_fill_color': '7AC3EE',\n",
       "  'profile_text_color': '3D1957',\n",
       "  'profile_use_background_image': True,\n",
       "  'protected': False,\n",
       "  'screen_name': 'stephfuccio',\n",
       "  'statuses_count': 8576,\n",
       "  'time_zone': 'Pacific Time (US & Canada)',\n",
       "  'translator_type': 'none',\n",
       "  'url': 'https://t.co/wfSF1olx2b',\n",
       "  'utc_offset': -28800,\n",
       "  'verified': False}}"
      ]
     },
     "execution_count": 6,
     "metadata": {},
     "output_type": "execute_result"
    }
   ],
   "source": [
    "twitter.update_status(status=message)"
   ]
  },
  {
   "cell_type": "code",
   "execution_count": 7,
   "metadata": {
    "ExecuteTime": {
     "end_time": "2017-12-19T13:08:59.085134Z",
     "start_time": "2017-12-19T13:08:59.078132Z"
    }
   },
   "outputs": [
    {
     "name": "stdout",
     "output_type": "stream",
     "text": [
      "Tweeted:Banning Christmas in China: Good, Bad, Thoughts? #China\n"
     ]
    }
   ],
   "source": [
    "print(\"Tweeted:{}\".format(message))"
   ]
  },
  {
   "cell_type": "code",
   "execution_count": null,
   "metadata": {},
   "outputs": [],
   "source": []
  }
 ],
 "metadata": {
  "kernelspec": {
   "display_name": "Python [conda root]",
   "language": "python",
   "name": "conda-root-py"
  },
  "language_info": {
   "codemirror_mode": {
    "name": "ipython",
    "version": 3
   },
   "file_extension": ".py",
   "mimetype": "text/x-python",
   "name": "python",
   "nbconvert_exporter": "python",
   "pygments_lexer": "ipython3",
   "version": "3.6.2"
  }
 },
 "nbformat": 4,
 "nbformat_minor": 2
}
