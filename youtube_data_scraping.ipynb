{
 "cells": [
  {
   "cell_type": "markdown",
   "metadata": {},
   "source": [
    "# Youtube Data Scraping"
   ]
  },
  {
   "cell_type": "code",
   "execution_count": 1,
   "metadata": {
    "ExecuteTime": {
     "end_time": "2017-12-25T04:12:30.009974Z",
     "start_time": "2017-12-25T04:12:28.860908Z"
    }
   },
   "outputs": [],
   "source": [
    "from urllib.request import urlopen\n",
    "import json\n",
    "import pafy\n",
    "import pandas as pd"
   ]
  },
  {
   "cell_type": "code",
   "execution_count": 2,
   "metadata": {
    "ExecuteTime": {
     "end_time": "2017-12-25T04:12:30.019956Z",
     "start_time": "2017-12-25T04:12:30.012637Z"
    }
   },
   "outputs": [],
   "source": [
    "from google_auth import api_key"
   ]
  },
  {
   "cell_type": "code",
   "execution_count": 3,
   "metadata": {
    "ExecuteTime": {
     "end_time": "2017-12-25T04:12:30.066529Z",
     "start_time": "2017-12-25T04:12:30.023656Z"
    }
   },
   "outputs": [],
   "source": [
    "def get_all_video_in_channel(channel_id):\n",
    "    base_video_url = 'https://www.youtube.com/watch?v='\n",
    "    base_search_url = 'https://www.googleapis.com/youtube/v3/search?'\n",
    "\n",
    "    first_url = base_search_url+'key={}&channelId={}&part=snippet,id&order=date&maxResults=25'.format(api_key, channel_id)\n",
    "\n",
    "    video_links = []\n",
    "    url = first_url\n",
    "    while True:\n",
    "        inp = urlopen(url)\n",
    "        resp = json.load(inp)\n",
    "\n",
    "        for i in resp['items']:\n",
    "            if i['id']['kind'] == \"youtube#video\":\n",
    "                video_links.append(base_video_url + i['id']['videoId'])\n",
    "\n",
    "        try:\n",
    "            next_page_token = resp['nextPageToken']\n",
    "            url = first_url + '&pageToken={}'.format(next_page_token)\n",
    "        except:\n",
    "            break\n",
    "    return video_links"
   ]
  },
  {
   "cell_type": "code",
   "execution_count": 4,
   "metadata": {
    "ExecuteTime": {
     "end_time": "2017-12-25T04:12:30.081378Z",
     "start_time": "2017-12-25T04:12:30.069394Z"
    }
   },
   "outputs": [],
   "source": [
    "channel_id = \"UClzR7HySZTVb6g-tSzAhi5A\""
   ]
  },
  {
   "cell_type": "code",
   "execution_count": 5,
   "metadata": {
    "ExecuteTime": {
     "end_time": "2017-12-25T04:12:33.687884Z",
     "start_time": "2017-12-25T04:12:30.083428Z"
    }
   },
   "outputs": [],
   "source": [
    "video_urls = get_all_video_in_channel(channel_id)"
   ]
  },
  {
   "cell_type": "code",
   "execution_count": 6,
   "metadata": {
    "ExecuteTime": {
     "end_time": "2017-12-25T04:12:33.760007Z",
     "start_time": "2017-12-25T04:12:33.693159Z"
    }
   },
   "outputs": [],
   "source": [
    "from multiprocessing import Pool\n",
    "p=Pool(10)"
   ]
  },
  {
   "cell_type": "code",
   "execution_count": 7,
   "metadata": {
    "ExecuteTime": {
     "end_time": "2017-12-25T04:12:33.766222Z",
     "start_time": "2017-12-25T04:12:33.763284Z"
    }
   },
   "outputs": [],
   "source": [
    "#getvideo(video_urls)"
   ]
  },
  {
   "cell_type": "code",
   "execution_count": 8,
   "metadata": {
    "ExecuteTime": {
     "end_time": "2017-12-25T04:21:08.944119Z",
     "start_time": "2017-12-25T04:12:33.768761Z"
    }
   },
   "outputs": [
    {
     "name": "stdout",
     "output_type": "stream",
     "text": [
      "Word boundaries in Chinese\n",
      "Chinese and English word order comparison\n",
      "The power of review with reading Chinese words\n",
      "Adorable Chinese words (alternate title: logical Chinese words)\n",
      "Rocket learning : Back on track with learning to read Chinese\n",
      "Real life Chinese language interference\n",
      "5,000 views celebration\n",
      "Burning Question: What Emergency language in Chinese have you used?\n",
      "Online Chinese tutoring success!\n",
      "Chinese language update AND Duo Lingo Chinese app review\n",
      "Back in hanzi heaven, errr, I mean China\n",
      "European trip endcap ponderings: Spanish and German\n",
      "German, English positive transfer wit writing\n",
      "Burning questions about the languages around you\n",
      "Chinese character walkabout in Madrid, Spain's Chinatown\n",
      "Academia & Polyglots collide (in a good way) : a Podcast episode review\n",
      "Hebrew Scripts in Synogogue (Cordoba, Spain)\n",
      "Burning question: language vocabulary stories\n",
      "Aha moment: Writing Scripts are magical, mystical almost (more images in show notes)\n",
      "Burning question: Should I include writing scripts I am not studying but see around me?\n",
      "Learning Languages with different channels (Spanish & Chinese)\n",
      "Burning question (Spanish) & YouTube language vlogger recommendation (Chinese)\n",
      "Hanzi Chinese characters in Seville, Spain!\n",
      "Multi-lingual tourism pondering\n",
      "Dual language aha moments (Sevilla, Spain)\n",
      "Reading update (lesson 2), sentence scramble with Chinese words\n",
      "kind of Spanish language walkabout\n",
      "What does language fluency taste like?\n",
      "Burning question: quick reference German tools\n",
      "Chinese-Spanish Language Soup\n",
      "Aha moment: when countries/languages collide\n",
      "Chinese reading update...from Spain\n",
      "Update: the reading work continues\n",
      "Language traveling distractions?\n",
      "Burning question: Frequently used words\n",
      "Aha moment: Why do we teach language learners only nice language? (October 4, 2017)\n",
      "4,000 views celebration (October 3, 2017)\n",
      "Update: New tracking and daily study plan (October 2, 2017)\n",
      "Burning question: the word \"stop\"\n",
      "Update: Reading book (September 27, 2017)\n",
      "About: Language Learning Classroom Experience, part 3 (October 2, 2017)\n",
      "Tools: Pleco as mobile phone Chinese practice (October 1, 2017)\n",
      "Aha moment: fossilized errors from 6 years ago\n",
      "Burning question: Space issues for the millionth time\n",
      "Chinese character walkabout: Nanjing Nan Train Station\n",
      "Update: Time to read Chinese! (September 25, 2017)\n",
      "Update: LanguageCon 2017\n",
      "Update: Presentation practice loopy (September 20, 2017)\n",
      "Breakthrough: Learning VERSUS review (Septemmber 19, 2017)\n",
      "Aha moment: English spatial issues affecting reading in Chinese (September 19, 2017)\n",
      "Tools: Resource heaven (September 16, 2017)\n",
      "About: Language learning classroom experience, part 2 (September  13, 2017)\n",
      "Chinese character walkabout: Xintiandi neighborhood in Shanghai  (September 15, 2017)\n",
      "Help: Pre-LanguageCon Conference Survey (September 9, 2017)\n",
      "Update (September 14, 2017)\n",
      "Update: Chinese language song challenge (September 13, 2017)\n",
      "Update: Language learning staggnation? guilt? expectation fatigue? (September 14, 2017)\n",
      "About: I've been language learning question tagged! (September 12, 2017)\n",
      "About: Language learning classroom experience, part 1 (September 9,  2017)\n",
      "Burning question: Pronunciation of 心 (xīn) and 谢谢 (xièxiè) (September 5, 2017)\n",
      "Update (September 5, 2017)\n",
      "Chinese character walkabout: 7-11 food flyers (September 4, 2017)\n",
      "Update: 3,000 View Dancing Celebration (September 4, 2017)\n",
      "Chinese character walkabout: Maji Square Food Court in Taipei (September 1, 2017)\n",
      "Chinese character walkabout: Songshan Airport in Taipei (September 2, 2017)\n",
      "Aha moment: layering up to read Chinese (September 1, 2017)\n",
      "Aha moment: motivation app? (August 31, 2017)\n",
      "Chinese character walkabout: traditional characters in Taipei (August 30, 2017)\n",
      "Burning question: simplified & traditional Chinese characters (August 29, 2017)\n",
      "Online Chinese course: Sensible Chinese (August 28, 2019)\n",
      "Tools: Chinese language graded reader-part 2 (August 26, 2017)\n",
      "Feedback styles & preferences (August 26, 2017)\n",
      "Ugh: Language bottleneck (August 26, 2017)\n",
      "Aha moment: Finger modeling with Chinese words & syllables (August 22, 2017)\n",
      "Language maturity? (August 21, 2017)\n",
      "Tools: Flashcard video video (August 18, 2017)\n",
      "Challenge: Morning study, day 4 (August 16, 2017)\n",
      "Burning question: romanization letter C ponderings (August 14, 2017)\n",
      "Challenge: Morning study, day 3 (August 15, 2017)\n",
      "Challenge: Early morning study experiment (August 14, 2017)\n",
      "Tools: My Dream Graded Reader (August 12, 2017)\n",
      "Noticing: Puxi & Pudong (August 12, 2017)\n",
      "Update (August 12, 2017)\n",
      "About me: Education & Language Teaching Background (August 9, 2017)\n",
      "Noticing: Proof that input only works when you're ready (August 9, 2017)\n",
      "Update: 2,000 views! (August 9, 2017)\n",
      "Hmmm: Language modesty, language confidence, language pride (August 5, 2017)\n",
      "Aha moment: Is language learning lonely? (August 7, 2017)\n",
      "Burning question: Where do you track your language learning daily tasks? (August 5, 2017)\n",
      "Chinese character walkabout: French Concession, Shanghai (August 5, 2017)\n",
      "Update: Language Learning Conference Invite (August 3, 2017)\n",
      "Awkward Chinese: nèige & Zhu (August 11, 2017)\n",
      "Aha moment: Pinyin and Hanzi as people (July 31, 2017)\n",
      "Tools: Two syllable creatures are kicking my a** (July 30, 2017)\n",
      "Tools: China Daily newspaper AND Perapera toolbar dictionary (July 23, 2017)\n",
      "Burning question: spacing & tones (July 27, 2017)\n",
      "Aha moment: tone 4 IS angry! & color coding tones (July 26, 2017)\n",
      "Tools: HiNative for instant language feedback (July 24, 2017)\n",
      "Ugh: Dear Chinese language, we have to talk...(July 24, 2017)\n",
      "Help: Ai ou song search (July 24, 2017)\n",
      "Tools: Using Chinese songs for Pinyin pronunciation practice (July 23, 2017)\n",
      "Update: Confessions of a shiny object chaser (July 23, 2017)\n",
      "Chinese character walkabout: Yangzhou Library (July 18, 2017)\n",
      "Tools: Chinese language YouTube Video Recs (July 18, 2017)\n",
      "Call for Chinese language learning interviews (July 18, 2017)\n",
      "Burning Question: radical building idea from my one character wonder brain (July 18, 2017)\n",
      "Tools: Chinese Word of the Day Social Media Accounts of Awesomeness (July 14, 2017)\n",
      "Aha moment: Impatient & self criticism is HUGE right now (July 16, 2017)\n",
      "Tools: Chinese Pinyin Trainer (July 16, 2017)\n",
      "Tools: Chinese Pinyin practice tool (July 14, 2017)\n",
      "Tools: Micro burst Chinese language learning on Instagram (July 14, 2017)\n",
      "Update: Current Chinese language learning plan/method (July 14, 2017)\n",
      "Burning question: common errors (July 11, 2017)\n",
      "Tools: Weibo, dipping my big toe into the pool of authentic Chinese language (July 11, 2017)\n",
      "Update: 1,000 views thank you! (July 9, 2017)\n",
      "Tools & Methods (July 8, 2017)\n",
      "Tools: Chinese language learning books shopping trip (July 7, 2017)\n",
      "Tools: Resource Fatigue, Part 2 (July 6, 2017)\n",
      "Tools: Resource fatigue, Part 1 (July 5, 2017)\n",
      "Aha moment: Spanish language interference (July 4, 2017)\n",
      "Confession: I've been cheating on you (you=this channel)  (July 4, 2017)\n",
      "Update: New Chinese language learning tracking system (July 1, 2017)\n",
      "Chinese character walkabout: Xujiahui Park, Shanghai, China (July 1, 2017)\n",
      "Hmmm: Chinese number via hand gestures: Why 7 & 8 are fascinating (July 1, 2017)\n",
      "Aha moment: Frequency (June 30, 2017)\n",
      "Tools: Chinese flashcard making examples with Anki app (June 28, 2017)\n",
      "Burning questions: fu (June 27, 2017)\n",
      "Challenge: Chinese flashcard making marathon (with Anki), part 5: hour 4-the finale! (June 25, 2017)\n",
      "Challenge: Chinese flashcard making marathon (with Anki), part 4: hour 3 June 25, 2017)\n",
      "Challenge: Chinese flashcard making marathon (with Anki), part 3: hour 2 (June 25, 2017)\n",
      "Challenge: Chinese flashcard making marathon , part 2: the execution-hour 1 (June 25, 2017)\n",
      "Challenge: Chinese flashcard making marathon (with Anki), part 1: the plan (June 25, 2017)\n",
      "Chinese character walkabout @ MixC Mall, Hangzhou (June 20, 2017)\n",
      "Chinese character walkabout: Qingdao, China (June 20, 2017)\n",
      "Update: Two month Chinese language learning anniversary vid! (June 20, 2017)\n",
      "Burning question: Pronouns he, she, him, her (June 20, 2017)\n",
      "Aha moment: my brain as a glass (June 18, 2017)\n",
      "Tools: Pleco tracing lookup (June 17, 2017)\n",
      "Burning question: Do radicals create word families? (June 16, 2017)\n",
      "Confessions of my \"first\" language (June 15, 2017)\n"
     ]
    },
    {
     "name": "stdout",
     "output_type": "stream",
     "text": [
      "Tools: Color coding Chinese tones with Pleco app (June 15, 2017)\n",
      "Aha Moment: Return on motivation w/ Chinese characters (June 14, 2017)\n",
      "Chinese characters walkabout: Redtown, Shanghai, China (June 10, 2017)\n",
      "Burning Question (June 13, 2017)\n",
      "Update (June 9, 2017)\n",
      "Chinese character walkabout: Hongqiao Train Station, Shanghai (June 8, 2017)\n",
      "Chinese character walkabout : French Concession, Shanghai, China (June 8, 2017)\n",
      "About this language learning channel and me! (June 6, 2017)\n",
      "Update (June 5, 2017)\n",
      "Tools: Chinese character tracing, the Zorro stroke & tracing app of truth (May 31, 2017)\n",
      "Update (May 30, 2017)\n",
      "Chinese characters walkabout: NOT letter B (is it called fu?) (May 29, 2017)\n",
      "Update: Like character stress & impressing locals on the train (May 25, 2017)\n",
      "Chinese character walkabout: Shanghai (May 21, 2017)\n",
      "Update: Characters IRL & Anki flashcards (May 14, 2017)\n",
      "Chinese language space issues & character matching survival skill (May 11, 2017)\n",
      "Update: language learning failure (May 9, 2017)\n",
      "Update: beginning strokes (April 30, 2017)\n"
     ]
    }
   ],
   "source": [
    "results = []\n",
    "\n",
    "for url in video_urls: \n",
    "    test = pafy.new(url)\n",
    "    result = test.published,test.title, test.rating, test.viewcount, test.duration, test.likes, url\n",
    "    results.append(result)\n",
    "    print(test.title)"
   ]
  },
  {
   "cell_type": "code",
   "execution_count": 9,
   "metadata": {
    "ExecuteTime": {
     "end_time": "2017-12-25T04:21:08.967819Z",
     "start_time": "2017-12-25T04:21:08.950061Z"
    }
   },
   "outputs": [
    {
     "name": "stdout",
     "output_type": "stream",
     "text": [
      "The link to the first video is: https://www.youtube.com/watch?v=_zYrd1JnU3E\n",
      "The link to the most recent video is: https://www.youtube.com/watch?v=91aIIU5ZWZY\n"
     ]
    }
   ],
   "source": [
    "print(\"The link to the first video is: \" + results[-1][-1])\n",
    "print(\"The link to the most recent video is: \" + results[0][-1])"
   ]
  },
  {
   "cell_type": "code",
   "execution_count": 10,
   "metadata": {
    "ExecuteTime": {
     "end_time": "2017-12-25T04:21:09.029263Z",
     "start_time": "2017-12-25T04:21:08.975520Z"
    }
   },
   "outputs": [
    {
     "data": {
      "text/html": [
       "<div>\n",
       "<style>\n",
       "    .dataframe thead tr:only-child th {\n",
       "        text-align: right;\n",
       "    }\n",
       "\n",
       "    .dataframe thead th {\n",
       "        text-align: left;\n",
       "    }\n",
       "\n",
       "    .dataframe tbody tr th {\n",
       "        vertical-align: top;\n",
       "    }\n",
       "</style>\n",
       "<table border=\"1\" class=\"dataframe\">\n",
       "  <thead>\n",
       "    <tr style=\"text-align: right;\">\n",
       "      <th></th>\n",
       "      <th>Date</th>\n",
       "      <th>Title</th>\n",
       "      <th>Rating</th>\n",
       "      <th>View Count</th>\n",
       "      <th>Duration</th>\n",
       "      <th>Likes</th>\n",
       "      <th>URL</th>\n",
       "    </tr>\n",
       "  </thead>\n",
       "  <tbody>\n",
       "    <tr>\n",
       "      <th>0</th>\n",
       "      <td>2017-12-22 08:35:37</td>\n",
       "      <td>Word boundaries in Chinese</td>\n",
       "      <td>0.0</td>\n",
       "      <td>16</td>\n",
       "      <td>00:04:41</td>\n",
       "      <td>0</td>\n",
       "      <td>https://www.youtube.com/watch?v=91aIIU5ZWZY</td>\n",
       "    </tr>\n",
       "    <tr>\n",
       "      <th>1</th>\n",
       "      <td>2017-12-15 05:33:44</td>\n",
       "      <td>Chinese and English word order comparison</td>\n",
       "      <td>0.0</td>\n",
       "      <td>22</td>\n",
       "      <td>00:16:30</td>\n",
       "      <td>0</td>\n",
       "      <td>https://www.youtube.com/watch?v=uK7LFu_Rvak</td>\n",
       "    </tr>\n",
       "    <tr>\n",
       "      <th>2</th>\n",
       "      <td>2017-12-13 14:37:04</td>\n",
       "      <td>The power of review with reading Chinese words</td>\n",
       "      <td>0.0</td>\n",
       "      <td>17</td>\n",
       "      <td>00:12:04</td>\n",
       "      <td>0</td>\n",
       "      <td>https://www.youtube.com/watch?v=LE-EvaQzWUE</td>\n",
       "    </tr>\n",
       "    <tr>\n",
       "      <th>3</th>\n",
       "      <td>2017-12-11 13:57:55</td>\n",
       "      <td>Adorable Chinese words (alternate title: logic...</td>\n",
       "      <td>5.0</td>\n",
       "      <td>39</td>\n",
       "      <td>00:04:08</td>\n",
       "      <td>1</td>\n",
       "      <td>https://www.youtube.com/watch?v=ZaxSyqghW5Y</td>\n",
       "    </tr>\n",
       "    <tr>\n",
       "      <th>4</th>\n",
       "      <td>2017-12-10 13:42:05</td>\n",
       "      <td>Rocket learning : Back on track with learning ...</td>\n",
       "      <td>5.0</td>\n",
       "      <td>18</td>\n",
       "      <td>00:06:48</td>\n",
       "      <td>1</td>\n",
       "      <td>https://www.youtube.com/watch?v=rVzMwgp2wk4</td>\n",
       "    </tr>\n",
       "  </tbody>\n",
       "</table>\n",
       "</div>"
      ],
      "text/plain": [
       "                  Date                                              Title  \\\n",
       "0  2017-12-22 08:35:37                         Word boundaries in Chinese   \n",
       "1  2017-12-15 05:33:44          Chinese and English word order comparison   \n",
       "2  2017-12-13 14:37:04     The power of review with reading Chinese words   \n",
       "3  2017-12-11 13:57:55  Adorable Chinese words (alternate title: logic...   \n",
       "4  2017-12-10 13:42:05  Rocket learning : Back on track with learning ...   \n",
       "\n",
       "   Rating  View Count  Duration  Likes  \\\n",
       "0     0.0          16  00:04:41      0   \n",
       "1     0.0          22  00:16:30      0   \n",
       "2     0.0          17  00:12:04      0   \n",
       "3     5.0          39  00:04:08      1   \n",
       "4     5.0          18  00:06:48      1   \n",
       "\n",
       "                                           URL  \n",
       "0  https://www.youtube.com/watch?v=91aIIU5ZWZY  \n",
       "1  https://www.youtube.com/watch?v=uK7LFu_Rvak  \n",
       "2  https://www.youtube.com/watch?v=LE-EvaQzWUE  \n",
       "3  https://www.youtube.com/watch?v=ZaxSyqghW5Y  \n",
       "4  https://www.youtube.com/watch?v=rVzMwgp2wk4  "
      ]
     },
     "execution_count": 10,
     "metadata": {},
     "output_type": "execute_result"
    }
   ],
   "source": [
    "df = pd.DataFrame(results, columns = [\"Date\", \"Title\", \"Rating\", \"View Count\", \"Duration\", \"Likes\", \"URL\"])\n",
    "df.head()"
   ]
  },
  {
   "cell_type": "code",
   "execution_count": 11,
   "metadata": {
    "ExecuteTime": {
     "end_time": "2017-12-25T04:21:09.050405Z",
     "start_time": "2017-12-25T04:21:09.031687Z"
    },
    "scrolled": false
   },
   "outputs": [
    {
     "data": {
      "text/html": [
       "<div>\n",
       "<style>\n",
       "    .dataframe thead tr:only-child th {\n",
       "        text-align: right;\n",
       "    }\n",
       "\n",
       "    .dataframe thead th {\n",
       "        text-align: left;\n",
       "    }\n",
       "\n",
       "    .dataframe tbody tr th {\n",
       "        vertical-align: top;\n",
       "    }\n",
       "</style>\n",
       "<table border=\"1\" class=\"dataframe\">\n",
       "  <thead>\n",
       "    <tr style=\"text-align: right;\">\n",
       "      <th></th>\n",
       "      <th>Date</th>\n",
       "      <th>Title</th>\n",
       "      <th>Rating</th>\n",
       "      <th>View Count</th>\n",
       "      <th>Duration</th>\n",
       "      <th>Likes</th>\n",
       "      <th>URL</th>\n",
       "    </tr>\n",
       "  </thead>\n",
       "  <tbody>\n",
       "    <tr>\n",
       "      <th>153</th>\n",
       "      <td>2017-05-21 05:58:54</td>\n",
       "      <td>Chinese character walkabout: Shanghai (May 21,...</td>\n",
       "      <td>5.0</td>\n",
       "      <td>44</td>\n",
       "      <td>00:07:27</td>\n",
       "      <td>2</td>\n",
       "      <td>https://www.youtube.com/watch?v=Gw029m_5EUE</td>\n",
       "    </tr>\n",
       "    <tr>\n",
       "      <th>154</th>\n",
       "      <td>2017-05-14 04:39:09</td>\n",
       "      <td>Update: Characters IRL &amp; Anki flashcards (May ...</td>\n",
       "      <td>0.0</td>\n",
       "      <td>35</td>\n",
       "      <td>00:12:00</td>\n",
       "      <td>0</td>\n",
       "      <td>https://www.youtube.com/watch?v=QKeBZmpdNe8</td>\n",
       "    </tr>\n",
       "    <tr>\n",
       "      <th>155</th>\n",
       "      <td>2017-05-11 11:54:15</td>\n",
       "      <td>Chinese language space issues &amp; character matc...</td>\n",
       "      <td>5.0</td>\n",
       "      <td>22</td>\n",
       "      <td>00:26:37</td>\n",
       "      <td>1</td>\n",
       "      <td>https://www.youtube.com/watch?v=8DQ5muRI90M</td>\n",
       "    </tr>\n",
       "    <tr>\n",
       "      <th>156</th>\n",
       "      <td>2017-05-09 07:56:52</td>\n",
       "      <td>Update: language learning failure (May 9, 2017)</td>\n",
       "      <td>5.0</td>\n",
       "      <td>31</td>\n",
       "      <td>00:11:29</td>\n",
       "      <td>2</td>\n",
       "      <td>https://www.youtube.com/watch?v=JHzjuRBczMI</td>\n",
       "    </tr>\n",
       "    <tr>\n",
       "      <th>157</th>\n",
       "      <td>2017-04-30 13:05:54</td>\n",
       "      <td>Update: beginning strokes (April 30, 2017)</td>\n",
       "      <td>5.0</td>\n",
       "      <td>217</td>\n",
       "      <td>00:13:10</td>\n",
       "      <td>4</td>\n",
       "      <td>https://www.youtube.com/watch?v=_zYrd1JnU3E</td>\n",
       "    </tr>\n",
       "  </tbody>\n",
       "</table>\n",
       "</div>"
      ],
      "text/plain": [
       "                    Date                                              Title  \\\n",
       "153  2017-05-21 05:58:54  Chinese character walkabout: Shanghai (May 21,...   \n",
       "154  2017-05-14 04:39:09  Update: Characters IRL & Anki flashcards (May ...   \n",
       "155  2017-05-11 11:54:15  Chinese language space issues & character matc...   \n",
       "156  2017-05-09 07:56:52    Update: language learning failure (May 9, 2017)   \n",
       "157  2017-04-30 13:05:54         Update: beginning strokes (April 30, 2017)   \n",
       "\n",
       "     Rating  View Count  Duration  Likes  \\\n",
       "153     5.0          44  00:07:27      2   \n",
       "154     0.0          35  00:12:00      0   \n",
       "155     5.0          22  00:26:37      1   \n",
       "156     5.0          31  00:11:29      2   \n",
       "157     5.0         217  00:13:10      4   \n",
       "\n",
       "                                             URL  \n",
       "153  https://www.youtube.com/watch?v=Gw029m_5EUE  \n",
       "154  https://www.youtube.com/watch?v=QKeBZmpdNe8  \n",
       "155  https://www.youtube.com/watch?v=8DQ5muRI90M  \n",
       "156  https://www.youtube.com/watch?v=JHzjuRBczMI  \n",
       "157  https://www.youtube.com/watch?v=_zYrd1JnU3E  "
      ]
     },
     "execution_count": 11,
     "metadata": {},
     "output_type": "execute_result"
    }
   ],
   "source": [
    "df.tail()"
   ]
  },
  {
   "cell_type": "code",
   "execution_count": 12,
   "metadata": {
    "ExecuteTime": {
     "end_time": "2017-12-25T04:21:09.085714Z",
     "start_time": "2017-12-25T04:21:09.055574Z"
    }
   },
   "outputs": [
    {
     "data": {
      "text/html": [
       "<div>\n",
       "<style>\n",
       "    .dataframe thead tr:only-child th {\n",
       "        text-align: right;\n",
       "    }\n",
       "\n",
       "    .dataframe thead th {\n",
       "        text-align: left;\n",
       "    }\n",
       "\n",
       "    .dataframe tbody tr th {\n",
       "        vertical-align: top;\n",
       "    }\n",
       "</style>\n",
       "<table border=\"1\" class=\"dataframe\">\n",
       "  <thead>\n",
       "    <tr style=\"text-align: right;\">\n",
       "      <th></th>\n",
       "      <th>Date</th>\n",
       "      <th>Title</th>\n",
       "      <th>Rating</th>\n",
       "      <th>View Count</th>\n",
       "      <th>Duration</th>\n",
       "      <th>Likes</th>\n",
       "      <th>URL</th>\n",
       "    </tr>\n",
       "  </thead>\n",
       "  <tbody>\n",
       "    <tr>\n",
       "      <th>30</th>\n",
       "      <td>2017-10-19 06:21:17</td>\n",
       "      <td>Aha moment: when countries/languages collide</td>\n",
       "      <td>0.0</td>\n",
       "      <td>6</td>\n",
       "      <td>00:00:48</td>\n",
       "      <td>0</td>\n",
       "      <td>https://www.youtube.com/watch?v=ke7didLHqVs</td>\n",
       "    </tr>\n",
       "    <tr>\n",
       "      <th>19</th>\n",
       "      <td>2017-10-29 10:23:18</td>\n",
       "      <td>Burning question: Should I include writing scr...</td>\n",
       "      <td>0.0</td>\n",
       "      <td>6</td>\n",
       "      <td>00:01:15</td>\n",
       "      <td>0</td>\n",
       "      <td>https://www.youtube.com/watch?v=aGc1RtMPiCo</td>\n",
       "    </tr>\n",
       "    <tr>\n",
       "      <th>16</th>\n",
       "      <td>2017-11-01 20:50:03</td>\n",
       "      <td>Hebrew Scripts in Synogogue (Cordoba, Spain)</td>\n",
       "      <td>0.0</td>\n",
       "      <td>6</td>\n",
       "      <td>00:02:11</td>\n",
       "      <td>0</td>\n",
       "      <td>https://www.youtube.com/watch?v=MvLaCaYsgHU</td>\n",
       "    </tr>\n",
       "    <tr>\n",
       "      <th>128</th>\n",
       "      <td>2017-06-25 11:01:01</td>\n",
       "      <td>Challenge: Chinese flashcard making marathon (...</td>\n",
       "      <td>0.0</td>\n",
       "      <td>6</td>\n",
       "      <td>00:09:31</td>\n",
       "      <td>0</td>\n",
       "      <td>https://www.youtube.com/watch?v=_CS6QdcT74M</td>\n",
       "    </tr>\n",
       "    <tr>\n",
       "      <th>23</th>\n",
       "      <td>2017-10-26 10:48:26</td>\n",
       "      <td>Multi-lingual tourism pondering</td>\n",
       "      <td>0.0</td>\n",
       "      <td>7</td>\n",
       "      <td>00:03:40</td>\n",
       "      <td>0</td>\n",
       "      <td>https://www.youtube.com/watch?v=WPz-Z_ET9W0</td>\n",
       "    </tr>\n",
       "  </tbody>\n",
       "</table>\n",
       "</div>"
      ],
      "text/plain": [
       "                    Date                                              Title  \\\n",
       "30   2017-10-19 06:21:17       Aha moment: when countries/languages collide   \n",
       "19   2017-10-29 10:23:18  Burning question: Should I include writing scr...   \n",
       "16   2017-11-01 20:50:03       Hebrew Scripts in Synogogue (Cordoba, Spain)   \n",
       "128  2017-06-25 11:01:01  Challenge: Chinese flashcard making marathon (...   \n",
       "23   2017-10-26 10:48:26                    Multi-lingual tourism pondering   \n",
       "\n",
       "     Rating  View Count  Duration  Likes  \\\n",
       "30      0.0           6  00:00:48      0   \n",
       "19      0.0           6  00:01:15      0   \n",
       "16      0.0           6  00:02:11      0   \n",
       "128     0.0           6  00:09:31      0   \n",
       "23      0.0           7  00:03:40      0   \n",
       "\n",
       "                                             URL  \n",
       "30   https://www.youtube.com/watch?v=ke7didLHqVs  \n",
       "19   https://www.youtube.com/watch?v=aGc1RtMPiCo  \n",
       "16   https://www.youtube.com/watch?v=MvLaCaYsgHU  \n",
       "128  https://www.youtube.com/watch?v=_CS6QdcT74M  \n",
       "23   https://www.youtube.com/watch?v=WPz-Z_ET9W0  "
      ]
     },
     "execution_count": 12,
     "metadata": {},
     "output_type": "execute_result"
    }
   ],
   "source": [
    "least_viewed = df.sort_values(by='View Count')\n",
    "least_viewed.head()"
   ]
  },
  {
   "cell_type": "code",
   "execution_count": 13,
   "metadata": {
    "ExecuteTime": {
     "end_time": "2017-12-25T04:21:09.102619Z",
     "start_time": "2017-12-25T04:21:09.087801Z"
    }
   },
   "outputs": [
    {
     "name": "stdout",
     "output_type": "stream",
     "text": [
      "The video with the fewest views is 'Aha moment: when countries/languages collide' and it's link is: https://www.youtube.com/watch?v=ke7didLHqVs.\n"
     ]
    }
   ],
   "source": [
    "least_viewed_url = least_viewed.iloc[0, 6]\n",
    "least_view_title = least_viewed.iloc[0,1]\n",
    "print(\"The video with the fewest views is '{}' and it's link is: {}.\".format(least_view_title, least_viewed_url))"
   ]
  },
  {
   "cell_type": "code",
   "execution_count": 14,
   "metadata": {
    "ExecuteTime": {
     "end_time": "2017-12-25T04:22:05.934845Z",
     "start_time": "2017-12-25T04:22:05.926006Z"
    }
   },
   "outputs": [
    {
     "name": "stdout",
     "output_type": "stream",
     "text": [
      "Learning #Chinese ? Me too! Check out my video 'Aha moment: when countries/languages collide' here: https://www.youtube.com/watch?v=ke7didLHqVs\n"
     ]
    }
   ],
   "source": [
    "message = \"Learning #Chinese ? Me too! Check out my video '{}' here: {}\".format(least_view_title, least_viewed_url)\n",
    "print(message)"
   ]
  },
  {
   "cell_type": "code",
   "execution_count": 15,
   "metadata": {
    "ExecuteTime": {
     "end_time": "2017-12-25T04:22:13.468983Z",
     "start_time": "2017-12-25T04:22:13.232723Z"
    }
   },
   "outputs": [],
   "source": [
    "from twython import Twython\n",
    "from twitter_auth import (\n",
    "    consumer_key, \n",
    "    consumer_secret,\n",
    "    access_token, \n",
    "    access_token_secret\n",
    ")"
   ]
  },
  {
   "cell_type": "code",
   "execution_count": 16,
   "metadata": {
    "ExecuteTime": {
     "end_time": "2017-12-25T04:22:14.340736Z",
     "start_time": "2017-12-25T04:22:14.333365Z"
    }
   },
   "outputs": [],
   "source": [
    "twitter = Twython(\n",
    "    consumer_key,\n",
    "    consumer_secret,\n",
    "    access_token,\n",
    "    access_token_secret)"
   ]
  },
  {
   "cell_type": "code",
   "execution_count": 17,
   "metadata": {
    "ExecuteTime": {
     "end_time": "2017-12-25T04:22:16.814764Z",
     "start_time": "2017-12-25T04:22:15.733439Z"
    }
   },
   "outputs": [
    {
     "data": {
      "text/plain": [
       "{'contributors': None,\n",
       " 'coordinates': None,\n",
       " 'created_at': 'Mon Dec 25 04:22:16 +0000 2017',\n",
       " 'entities': {'hashtags': [{'indices': [9, 17], 'text': 'Chinese'}],\n",
       "  'symbols': [],\n",
       "  'urls': [{'display_url': 'youtube.com/watch?v=ke7did…',\n",
       "    'expanded_url': 'https://www.youtube.com/watch?v=ke7didLHqVs',\n",
       "    'indices': [100, 123],\n",
       "    'url': 'https://t.co/iHxfmwvmaR'}],\n",
       "  'user_mentions': []},\n",
       " 'favorite_count': 0,\n",
       " 'favorited': False,\n",
       " 'geo': None,\n",
       " 'id': 945147658636738560,\n",
       " 'id_str': '945147658636738560',\n",
       " 'in_reply_to_screen_name': None,\n",
       " 'in_reply_to_status_id': None,\n",
       " 'in_reply_to_status_id_str': None,\n",
       " 'in_reply_to_user_id': None,\n",
       " 'in_reply_to_user_id_str': None,\n",
       " 'is_quote_status': False,\n",
       " 'lang': 'en',\n",
       " 'place': None,\n",
       " 'possibly_sensitive': False,\n",
       " 'retweet_count': 0,\n",
       " 'retweeted': False,\n",
       " 'source': '<a href=\"https://github.com/evansimpson79\" rel=\"nofollow\">Auto_tweeter_youtube</a>',\n",
       " 'text': \"Learning #Chinese ? Me too! Check out my video 'Aha moment: when countries/languages collide' here: https://t.co/iHxfmwvmaR\",\n",
       " 'truncated': False,\n",
       " 'user': {'contributors_enabled': False,\n",
       "  'created_at': 'Tue Jun 08 09:24:09 +0000 2010',\n",
       "  'default_profile': False,\n",
       "  'default_profile_image': False,\n",
       "  'description': 'PODCAST: Over There,living overseas expressions (iTunes, Libsyn).YOUTUBE: Changing Scripts,Vlog abt learning 2 read Chinese language',\n",
       "  'entities': {'description': {'urls': []},\n",
       "   'url': {'urls': [{'display_url': 'itunes.apple.com/us/podcast/exp…',\n",
       "      'expanded_url': 'https://itunes.apple.com/us/podcast/expating/id1239185857?mt=2',\n",
       "      'indices': [0, 23],\n",
       "      'url': 'https://t.co/wfSF1olx2b'}]}},\n",
       "  'favourites_count': 1791,\n",
       "  'follow_request_sent': False,\n",
       "  'followers_count': 969,\n",
       "  'following': False,\n",
       "  'friends_count': 699,\n",
       "  'geo_enabled': False,\n",
       "  'has_extended_profile': True,\n",
       "  'id': 153349145,\n",
       "  'id_str': '153349145',\n",
       "  'is_translation_enabled': False,\n",
       "  'is_translator': False,\n",
       "  'lang': 'en',\n",
       "  'listed_count': 97,\n",
       "  'location': \"Shanghai, People's Republic of\",\n",
       "  'name': 'Stephanie Fuccio',\n",
       "  'notifications': False,\n",
       "  'profile_background_color': '642D8B',\n",
       "  'profile_background_image_url': 'http://abs.twimg.com/images/themes/theme10/bg.gif',\n",
       "  'profile_background_image_url_https': 'https://abs.twimg.com/images/themes/theme10/bg.gif',\n",
       "  'profile_background_tile': True,\n",
       "  'profile_banner_url': 'https://pbs.twimg.com/profile_banners/153349145/1496071715',\n",
       "  'profile_image_url': 'http://pbs.twimg.com/profile_images/917695725894492161/MzBf-kOc_normal.jpg',\n",
       "  'profile_image_url_https': 'https://pbs.twimg.com/profile_images/917695725894492161/MzBf-kOc_normal.jpg',\n",
       "  'profile_link_color': 'FF0000',\n",
       "  'profile_sidebar_border_color': '65B0DA',\n",
       "  'profile_sidebar_fill_color': '7AC3EE',\n",
       "  'profile_text_color': '3D1957',\n",
       "  'profile_use_background_image': True,\n",
       "  'protected': False,\n",
       "  'screen_name': 'stephfuccio',\n",
       "  'statuses_count': 8609,\n",
       "  'time_zone': 'Pacific Time (US & Canada)',\n",
       "  'translator_type': 'none',\n",
       "  'url': 'https://t.co/wfSF1olx2b',\n",
       "  'utc_offset': -28800,\n",
       "  'verified': False}}"
      ]
     },
     "execution_count": 17,
     "metadata": {},
     "output_type": "execute_result"
    }
   ],
   "source": [
    "twitter.update_status(status=message)"
   ]
  },
  {
   "cell_type": "code",
   "execution_count": null,
   "metadata": {},
   "outputs": [],
   "source": []
  }
 ],
 "metadata": {
  "kernelspec": {
   "display_name": "Python [conda root]",
   "language": "python",
   "name": "conda-root-py"
  },
  "language_info": {
   "codemirror_mode": {
    "name": "ipython",
    "version": 3
   },
   "file_extension": ".py",
   "mimetype": "text/x-python",
   "name": "python",
   "nbconvert_exporter": "python",
   "pygments_lexer": "ipython3",
   "version": "3.6.2"
  }
 },
 "nbformat": 4,
 "nbformat_minor": 2
}
